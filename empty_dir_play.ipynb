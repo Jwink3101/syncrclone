{
 "cells": [
  {
   "cell_type": "code",
   "execution_count": 1,
   "id": "428f1b37",
   "metadata": {},
   "outputs": [],
   "source": [
    "import os,json"
   ]
  },
  {
   "cell_type": "code",
   "execution_count": 17,
   "id": "853ea8ff",
   "metadata": {},
   "outputs": [
    {
     "data": {
      "text/plain": [
       "['B/.syncrclone/backups/2021-07-18T173727_8B0kD_B/deep/deeper/deepest',\n",
       " 'B/.syncrclone/backups/2021-07-18T173727_8B0kD_B/deep/deeper',\n",
       " 'B/.syncrclone/backups/2021-07-18T173727_8B0kD_B/deep',\n",
       " 'B/.syncrclone/backups/2021-07-18T173727_8B0kD_B',\n",
       " 'B/.syncrclone/backups',\n",
       " 'B/.syncrclone',\n",
       " 'B']"
      ]
     },
     "execution_count": 17,
     "metadata": {},
     "output_type": "execute_result"
    }
   ],
   "source": [
    "def all_parents(dirpath):\n",
    "    \"\"\"Yield dirpath and all parents of dirpath\"\"\"\n",
    "    split = dirpath.rsplit(sep='/',maxsplit=1)\n",
    "    yield dirpath\n",
    "    if len(split) == 2: # Not done\n",
    "        yield from all_parents(split[0])\n",
    "list(all_parents(dirpath))"
   ]
  },
  {
   "cell_type": "code",
   "execution_count": 20,
   "id": "361f4962",
   "metadata": {},
   "outputs": [],
   "source": [
    "folders = list()\n",
    "parents = set()\n",
    "with open('tests/testdirs/empty_dir/deep.json') as _f:\n",
    "    for item in json.load(_f):\n",
    "        if item['IsDir']:\n",
    "            folders.append(item['Path'])\n",
    "        else:\n",
    "            parents.update(all_parents(os.path.dirname(item['Path'])))"
   ]
  },
  {
   "cell_type": "code",
   "execution_count": 23,
   "id": "375280f4",
   "metadata": {},
   "outputs": [
    {
     "data": {
      "text/plain": [
       "['A',\n",
       " 'B',\n",
       " 'logs',\n",
       " 'A/.syncrclone',\n",
       " 'A/deep',\n",
       " 'A/del',\n",
       " 'A/emptypostA',\n",
       " 'A/emptypre',\n",
       " 'A/move',\n",
       " 'A/moved',\n",
       " 'B/.syncrclone',\n",
       " 'B/deep',\n",
       " 'B/del',\n",
       " 'B/emptypostB',\n",
       " 'B/move',\n",
       " 'B/moved',\n",
       " 'A/.syncrclone/backups',\n",
       " 'A/.syncrclone/logs',\n",
       " 'B/deep/deeper',\n",
       " 'A/deep/deeper',\n",
       " 'B/deep/deeper/deepest',\n",
       " 'A/.syncrclone/backups/2021-07-18T173727_8B0kD_A',\n",
       " 'B/.syncrclone/backups',\n",
       " 'B/.syncrclone/logs',\n",
       " 'A/.syncrclone/backups/2021-07-18T173727_8B0kD_A/move',\n",
       " 'A/deep/deeper/deepest',\n",
       " 'B/.syncrclone/backups/2021-07-18T173727_8B0kD_B',\n",
       " 'B/.syncrclone/backups/2021-07-18T173727_8B0kD_B/deep',\n",
       " 'B/.syncrclone/backups/2021-07-18T173727_8B0kD_B/del',\n",
       " 'B/.syncrclone/backups/2021-07-18T173727_8B0kD_B/deep/deeper',\n",
       " 'B/.syncrclone/backups/2021-07-18T173727_8B0kD_B/deep/deeper/deepest']"
      ]
     },
     "execution_count": 23,
     "metadata": {},
     "output_type": "execute_result"
    }
   ],
   "source": [
    "folders"
   ]
  },
  {
   "cell_type": "code",
   "execution_count": 22,
   "id": "1770c9f9",
   "metadata": {},
   "outputs": [
    {
     "data": {
      "text/plain": [
       "{'',\n",
       " 'A',\n",
       " 'A/.syncrclone',\n",
       " 'A/.syncrclone/backups',\n",
       " 'A/.syncrclone/backups/2021-07-18T173727_8B0kD_A',\n",
       " 'A/.syncrclone/backups/2021-07-18T173727_8B0kD_A/move',\n",
       " 'A/.syncrclone/logs',\n",
       " 'A/moved',\n",
       " 'B',\n",
       " 'B/.syncrclone',\n",
       " 'B/.syncrclone/backups',\n",
       " 'B/.syncrclone/backups/2021-07-18T173727_8B0kD_B',\n",
       " 'B/.syncrclone/backups/2021-07-18T173727_8B0kD_B/deep',\n",
       " 'B/.syncrclone/backups/2021-07-18T173727_8B0kD_B/deep/deeper',\n",
       " 'B/.syncrclone/backups/2021-07-18T173727_8B0kD_B/deep/deeper/deepest',\n",
       " 'B/.syncrclone/backups/2021-07-18T173727_8B0kD_B/del',\n",
       " 'B/.syncrclone/logs',\n",
       " 'B/moved',\n",
       " 'logs'}"
      ]
     },
     "execution_count": 22,
     "metadata": {},
     "output_type": "execute_result"
    }
   ],
   "source": [
    "parents"
   ]
  },
  {
   "cell_type": "code",
   "execution_count": 25,
   "id": "c6603000",
   "metadata": {},
   "outputs": [
    {
     "data": {
      "text/plain": [
       "['B/deep/deeper/deepest',\n",
       " 'A/deep/deeper/deepest',\n",
       " 'B/deep/deeper',\n",
       " 'A/deep/deeper',\n",
       " 'A/emptypostA',\n",
       " 'B/emptypostB',\n",
       " 'A/emptypre',\n",
       " 'A/deep',\n",
       " 'A/move',\n",
       " 'B/deep',\n",
       " 'B/move',\n",
       " 'A/del',\n",
       " 'B/del']"
      ]
     },
     "execution_count": 25,
     "metadata": {},
     "output_type": "execute_result"
    }
   ],
   "source": [
    "empty = [folder for folder in folders if folder not in parents]\n",
    "empty.sort(key=len,reverse=True) # Sort so the deepest go first\n",
    "empty"
   ]
  },
  {
   "cell_type": "code",
   "execution_count": null,
   "id": "2cffbe49",
   "metadata": {},
   "outputs": [],
   "source": [
    "os.path.exists"
   ]
  }
 ],
 "metadata": {
  "kernelspec": {
   "display_name": "Python 3",
   "language": "python",
   "name": "python3"
  },
  "language_info": {
   "codemirror_mode": {
    "name": "ipython",
    "version": 3
   },
   "file_extension": ".py",
   "mimetype": "text/x-python",
   "name": "python",
   "nbconvert_exporter": "python",
   "pygments_lexer": "ipython3",
   "version": "3.8.10"
  }
 },
 "nbformat": 4,
 "nbformat_minor": 5
}
